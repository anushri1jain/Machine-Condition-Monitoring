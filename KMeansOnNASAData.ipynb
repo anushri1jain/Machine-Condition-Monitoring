{
 "cells": [
  {
   "cell_type": "code",
   "execution_count": 204,
   "metadata": {},
   "outputs": [
    {
     "data": {
      "text/html": [
       "<div>\n",
       "<style scoped>\n",
       "    .dataframe tbody tr th:only-of-type {\n",
       "        vertical-align: middle;\n",
       "    }\n",
       "\n",
       "    .dataframe tbody tr th {\n",
       "        vertical-align: top;\n",
       "    }\n",
       "\n",
       "    .dataframe thead th {\n",
       "        text-align: right;\n",
       "    }\n",
       "</style>\n",
       "<table border=\"1\" class=\"dataframe\">\n",
       "  <thead>\n",
       "    <tr style=\"text-align: right;\">\n",
       "      <th></th>\n",
       "      <th>Bearing 1</th>\n",
       "      <th>Bearing 2</th>\n",
       "      <th>Bearing 3</th>\n",
       "      <th>Bearing 4</th>\n",
       "      <th>date</th>\n",
       "    </tr>\n",
       "  </thead>\n",
       "  <tbody>\n",
       "    <tr>\n",
       "      <td>0</td>\n",
       "      <td>0.058333</td>\n",
       "      <td>0.071832</td>\n",
       "      <td>0.083242</td>\n",
       "      <td>0.043067</td>\n",
       "      <td>2004-02-12 10:32:39</td>\n",
       "    </tr>\n",
       "    <tr>\n",
       "      <td>1</td>\n",
       "      <td>0.058995</td>\n",
       "      <td>0.074006</td>\n",
       "      <td>0.084435</td>\n",
       "      <td>0.044541</td>\n",
       "      <td>2004-02-12 10:42:39</td>\n",
       "    </tr>\n",
       "    <tr>\n",
       "      <td>2</td>\n",
       "      <td>0.060236</td>\n",
       "      <td>0.074227</td>\n",
       "      <td>0.083926</td>\n",
       "      <td>0.044443</td>\n",
       "      <td>2004-02-12 10:52:39</td>\n",
       "    </tr>\n",
       "    <tr>\n",
       "      <td>3</td>\n",
       "      <td>0.061455</td>\n",
       "      <td>0.073844</td>\n",
       "      <td>0.084457</td>\n",
       "      <td>0.045081</td>\n",
       "      <td>2004-02-12 11:02:39</td>\n",
       "    </tr>\n",
       "    <tr>\n",
       "      <td>4</td>\n",
       "      <td>0.061361</td>\n",
       "      <td>0.075609</td>\n",
       "      <td>0.082837</td>\n",
       "      <td>0.045118</td>\n",
       "      <td>2004-02-12 11:12:39</td>\n",
       "    </tr>\n",
       "  </tbody>\n",
       "</table>\n",
       "</div>"
      ],
      "text/plain": [
       "   Bearing 1  Bearing 2  Bearing 3  Bearing 4                date\n",
       "0   0.058333   0.071832   0.083242   0.043067 2004-02-12 10:32:39\n",
       "1   0.058995   0.074006   0.084435   0.044541 2004-02-12 10:42:39\n",
       "2   0.060236   0.074227   0.083926   0.044443 2004-02-12 10:52:39\n",
       "3   0.061455   0.073844   0.084457   0.045081 2004-02-12 11:02:39\n",
       "4   0.061361   0.075609   0.082837   0.045118 2004-02-12 11:12:39"
      ]
     },
     "execution_count": 204,
     "metadata": {},
     "output_type": "execute_result"
    }
   ],
   "source": [
    "import os\n",
    "import pandas as pd\n",
    "import tensorflow\n",
    "import numpy as np\n",
    "from sklearn import preprocessing\n",
    "import seaborn as sns\n",
    "sns.set(color_codes=True)\n",
    "import matplotlib.pyplot as plt\n",
    "%matplotlib inline\n",
    "\n",
    "from numpy.random import seed\n",
    "\n",
    "\n",
    "from keras.layers import Input, Dropout\n",
    "from keras.layers.core import Dense \n",
    "from keras.models import Model, Sequential, load_model\n",
    "from keras import regularizers\n",
    "from keras.models import model_from_json\n",
    "\n",
    "\n",
    "data_dir = 'D:\\\\Projects\\\\AI-ML\\\\NASA-BEARING_Vibration\\\\2nd_test'\n",
    "merged_data = pd.DataFrame()\n",
    "\n",
    "for filename in os.listdir(data_dir):\n",
    "    #print(filename)\n",
    "    dataset=pd.read_csv(os.path.join(data_dir, filename), sep='\\t')\n",
    "    dataset_mean_abs = np.array(dataset.abs().mean())\n",
    "    dataset_mean_abs = pd.DataFrame(dataset_mean_abs.reshape(1,4))\n",
    "    #dataset_mean_abs.index = [filename]\n",
    "    dataset_mean_abs['date'] = pd.to_datetime(filename, format='%Y.%m.%d.%H.%M.%S')\n",
    "    merged_data = merged_data.append(dataset_mean_abs)\n",
    "\n",
    "num_cols = ['Bearing 1']\n",
    "merged_data.columns = ['Bearing 1','Bearing 2','Bearing 3','Bearing 4', 'date']\n",
    "merged_data.reset_index(drop=True, inplace=True)\n",
    "#merged_data.index = pd.to_datetime(merged_data.index, format='%Y.%m.%d.%H.%M.%S')\n",
    "#merged_data.index = pd.to_datetime(merged_data.index, format='UTC')\n",
    "#merged_data = merged_data.sort_index()\n",
    "merged_data.to_csv('merged_dataset_BearingTest_2.csv')\n",
    "#merged_data.index.names = ['index']\n",
    "merged_data.head()\n"
   ]
  },
  {
   "cell_type": "code",
   "execution_count": 205,
   "metadata": {
    "scrolled": true
   },
   "outputs": [
    {
     "data": {
      "text/plain": [
       "(array([731624., 731625., 731626., 731627., 731628., 731629., 731630.]),\n",
       " <a list of 7 Text xticklabel objects>)"
      ]
     },
     "execution_count": 205,
     "metadata": {},
     "output_type": "execute_result"
    },
    {
     "data": {
      "image/png": "[encoded data removed]",
      "text/plain": [
       "<Figure size 432x288 with 1 Axes>"
      ]
     },
     "metadata": {
      "needs_background": "light"
     },
     "output_type": "display_data"
    }
   ],
   "source": [
    "\n",
    "dataset_train = merged_data #['2004-02-12 11:02:39':'2004-02-13 23:52:39']\n",
    "#dataset_test = merged_data['2004-02-13 23:52:39':]\n",
    "#dataset_train.plot(merged_data.loc[:,\"date\"], merged_data.loc[:,\"Bearing 1\"], figsize = (12,6))\n",
    "plt.plot(merged_data[\"date\"], merged_data[num_cols])\n",
    "plt.xticks(rotation=70)\n"
   ]
  },
  {
   "cell_type": "code",
   "execution_count": 206,
   "metadata": {},
   "outputs": [
    {
     "data": {
      "text/html": [
       "<div>\n",
       "<style scoped>\n",
       "    .dataframe tbody tr th:only-of-type {\n",
       "        vertical-align: middle;\n",
       "    }\n",
       "\n",
       "    .dataframe tbody tr th {\n",
       "        vertical-align: top;\n",
       "    }\n",
       "\n",
       "    .dataframe thead th {\n",
       "        text-align: right;\n",
       "    }\n",
       "</style>\n",
       "<table border=\"1\" class=\"dataframe\">\n",
       "  <thead>\n",
       "    <tr style=\"text-align: right;\">\n",
       "      <th></th>\n",
       "      <th>Bearing 1</th>\n",
       "    </tr>\n",
       "  </thead>\n",
       "  <tbody>\n",
       "    <tr>\n",
       "      <td>0</td>\n",
       "      <td>0.058333</td>\n",
       "    </tr>\n",
       "    <tr>\n",
       "      <td>1</td>\n",
       "      <td>0.058995</td>\n",
       "    </tr>\n",
       "    <tr>\n",
       "      <td>2</td>\n",
       "      <td>0.060236</td>\n",
       "    </tr>\n",
       "    <tr>\n",
       "      <td>3</td>\n",
       "      <td>0.061455</td>\n",
       "    </tr>\n",
       "    <tr>\n",
       "      <td>4</td>\n",
       "      <td>0.061361</td>\n",
       "    </tr>\n",
       "    <tr>\n",
       "      <td>...</td>\n",
       "      <td>...</td>\n",
       "    </tr>\n",
       "    <tr>\n",
       "      <td>979</td>\n",
       "      <td>0.453335</td>\n",
       "    </tr>\n",
       "    <tr>\n",
       "      <td>980</td>\n",
       "      <td>0.337583</td>\n",
       "    </tr>\n",
       "    <tr>\n",
       "      <td>981</td>\n",
       "      <td>0.351111</td>\n",
       "    </tr>\n",
       "    <tr>\n",
       "      <td>982</td>\n",
       "      <td>0.001857</td>\n",
       "    </tr>\n",
       "    <tr>\n",
       "      <td>983</td>\n",
       "      <td>0.001168</td>\n",
       "    </tr>\n",
       "  </tbody>\n",
       "</table>\n",
       "<p>984 rows × 1 columns</p>\n",
       "</div>"
      ],
      "text/plain": [
       "     Bearing 1\n",
       "0     0.058333\n",
       "1     0.058995\n",
       "2     0.060236\n",
       "3     0.061455\n",
       "4     0.061361\n",
       "..         ...\n",
       "979   0.453335\n",
       "980   0.337583\n",
       "981   0.351111\n",
       "982   0.001857\n",
       "983   0.001168\n",
       "\n",
       "[984 rows x 1 columns]"
      ]
     },
     "execution_count": 206,
     "metadata": {},
     "output_type": "execute_result"
    }
   ],
   "source": [
    "dataset_train.loc[:,num_cols]"
   ]
  },
  {
   "cell_type": "code",
   "execution_count": 213,
   "metadata": {
    "scrolled": true
   },
   "outputs": [
    {
     "name": "stdout",
     "output_type": "stream",
     "text": [
      "[[0.06159613]\n",
      " [0.11919813]\n",
      " [0.33527421]\n",
      " [0.08160921]\n",
      " [0.19564367]]\n"
     ]
    }
   ],
   "source": [
    "import matplotlib.pyplot as plt\n",
    "%matplotlib inline\n",
    "import numpy as np\n",
    "from sklearn.cluster import KMeans\n",
    "\n",
    "#X = dataset_train.loc[:,1:4]\n",
    "#X.plot(figsize = (12,6))\n",
    "\n",
    "#plt.scatter(merged_data.index,X[:,1], label='True Position')\n",
    "\n",
    "kmeans = KMeans(n_clusters=5)\n",
    "label = kmeans.fit_predict(dataset_train.loc[:,num_cols])\n",
    "print(kmeans.cluster_centers_)\n",
    "\n",
    "\n"
   ]
  },
  {
   "cell_type": "code",
   "execution_count": 216,
   "metadata": {},
   "outputs": [
    {
     "data": {
      "image/png": "[encoded data removed]",
      "text/plain": [
       "<Figure size 432x288 with 1 Axes>"
      ]
     },
     "metadata": {
      "needs_background": "light"
     },
     "output_type": "display_data"
    }
   ],
   "source": [
    "import datetime\n",
    "# filtered_label1 = dataset_trainX[label == 0]\n",
    "# # print(filtered_label1)\n",
    " \n",
    "# filtered_label2 = dataset_trainX[label == 1]\n",
    "\n",
    "# filtered_label3 = dataset_trainX[label == 2]\n",
    "\n",
    "filtered_label1 = dataset_train.iloc[label==0,:]\n",
    "# print(filtered_label1)\n",
    " \n",
    "filtered_label2 = dataset_train.iloc[label==1,:]\n",
    "\n",
    "filtered_label3 = dataset_train.iloc[label==2,:]\n",
    "\n",
    "filtered_label4 = dataset_train.iloc[label==3,:]\n",
    "\n",
    "filtered_label5 = dataset_train.iloc[label==4,:]\n",
    "\n",
    "#Plotting the results\n",
    "plt.scatter(filtered_label1['date'] ,filtered_label1[\"Bearing 1\"] , color = 'red')\n",
    "plt.scatter(filtered_label2['date'] , filtered_label2[\"Bearing 1\"] , color = 'black')\n",
    "plt.scatter(filtered_label3['date'] , filtered_label3[\"Bearing 1\"] , color = 'green')\n",
    "plt.scatter(filtered_label4['date'] , filtered_label4[\"Bearing 1\"] , color = 'yellow')\n",
    "plt.scatter(filtered_label5['date'] , filtered_label5[\"Bearing 1\"] , color = 'blue')\n",
    "\n",
    "left = datetime.date(2004, 2, 12)\n",
    "right = datetime.date(2004, 2, 20)\n",
    "\n",
    "#plt.gca().xaxis.set_major_formatter(filtered_label1['date'].DateFormatter('%m-%d')) \n",
    "\n",
    "# Change the tick interval\n",
    "#plt.gca().xaxis.set_major_locator(mdates.DayLocator(interval=30)) \n",
    "\n",
    "# Puts x-axis labels on an angle\n",
    "plt.gca().xaxis.set_tick_params(rotation = 30)  \n",
    "\n",
    "# Changes x-axis range\n",
    "plt.gca().set_xbound(left, right)\n",
    "#plt.xticks(np.arange(pd.to_datetime(\"2004-02-01\", utc=True), pd.to_datetime(\"2004-02-28\", utc=True)))\n",
    "plt.show()"
   ]
  },
  {
   "cell_type": "code",
   "execution_count": null,
   "metadata": {},
   "outputs": [],
   "source": []
  }
 ],
 "metadata": {
  "kernelspec": {
   "display_name": "Python 3",
   "language": "python",
   "name": "python3"
  },
  "language_info": {
   "codemirror_mode": {
    "name": "ipython",
    "version": 3
   },
   "file_extension": ".py",
   "mimetype": "text/x-python",
   "name": "python",
   "nbconvert_exporter": "python",
   "pygments_lexer": "ipython3",
   "version": "3.7.4"
  }
 },
 "nbformat": 4,
 "nbformat_minor": 2
}
