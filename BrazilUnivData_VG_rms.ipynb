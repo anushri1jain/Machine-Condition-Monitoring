{
 "cells": [
  {
   "cell_type": "code",
   "execution_count": 19,
   "metadata": {},
   "outputs": [
    {
     "name": "stdout",
     "output_type": "stream",
     "text": [
      "50\n",
      "148\n"
     ]
    }
   ],
   "source": [
    "import os\r\n",
    "import pandas as pd\r\n",
    "import tensorflow\r\n",
    "import numpy as np\r\n",
    "from sklearn import preprocessing\r\n",
    "import seaborn as sns\r\n",
    "sns.set(color_codes=True)\r\n",
    "import matplotlib.pyplot as plt\r\n",
    "%matplotlib inline\r\n",
    "\r\n",
    "from numpy.random import seed\r\n",
    "\r\n",
    "\r\n",
    "from keras.layers import Input, Dropout\r\n",
    "from keras.layers.core import Dense \r\n",
    "from keras.models import Model, Sequential, load_model\r\n",
    "from keras import regularizers\r\n",
    "from keras.models import model_from_json\r\n",
    "\r\n",
    "                                                                    #Data Preprocessing  \r\n",
    "data_dir = 'D:\\\\bearing_fault_data\\\\normal'\r\n",
    "merged_data = pd.DataFrame()\r\n",
    "counter = 1\r\n",
    "for filename in os.listdir(data_dir):#each for loop reads millions of data points from each fault catagory\r\n",
    "    #print(filename)\r\n",
    "    dataset=pd.read_csv(os.path.join(data_dir, filename), sep=',')\r\n",
    "    #print(dataset)\r\n",
    "\r\n",
    "    tmp_dataset_squared = np.square(dataset)\r\n",
    "    tmp_dataset_mean = np.array(tmp_dataset_squared.mean())\r\n",
    "    dataset_mean_abs = np.sqrt(tmp_dataset_mean)\r\n",
    "\r\n",
    "    # dataset_mean_abs = np.array(dataset.abs().mean())\r\n",
    "    dataset_mean_abs = pd.DataFrame(dataset_mean_abs.reshape(1,8))\r\n",
    "    #dataset_mean_abs.index = [filename]\r\n",
    "    filename = filename[:-4]\r\n",
    "    dataset_mean_abs['FaultType'] = 0                        #Add manual Label based on data folder\r\n",
    "    counter = counter+1\r\n",
    "    \r\n",
    "    merged_data = merged_data.append(dataset_mean_abs)\r\n",
    "\r\n",
    "data_dir = 'D:\\\\bearing_fault_data\\\\imbalance\\\\6g'\r\n",
    "#merged_data = pd.DataFrame()\r\n",
    "print(counter)\r\n",
    "for filename in os.listdir(data_dir):\r\n",
    "    #print(filename)\r\n",
    "    dataset=pd.read_csv(os.path.join(data_dir, filename), sep=',')\r\n",
    "    #print(dataset)\r\n",
    "\r\n",
    "    tmp_dataset_squared = np.square(dataset)\r\n",
    "    tmp_dataset_mean = np.array(tmp_dataset_squared.mean())\r\n",
    "    dataset_mean_abs = np.sqrt(tmp_dataset_mean)\r\n",
    "\r\n",
    "    # dataset_mean_abs = np.array(dataset.abs().mean())\r\n",
    "    dataset_mean_abs = pd.DataFrame(dataset_mean_abs.reshape(1,8))\r\n",
    "    #dataset_mean_abs.index = [filename]\r\n",
    "    filename = filename[:-4]\r\n",
    "    dataset_mean_abs['FaultType'] = 1\r\n",
    "    counter = counter+1\r\n",
    "    merged_data = merged_data.append(dataset_mean_abs)\r\n",
    "\r\n",
    "data_dir = 'D:\\\\bearing_fault_data\\\\overhang\\\\ball_fault\\\\0g'\r\n",
    "#merged_data = pd.DataFrame()\r\n",
    "\r\n",
    "for filename in os.listdir(data_dir):\r\n",
    "    #print(filename)\r\n",
    "    dataset=pd.read_csv(os.path.join(data_dir, filename), sep=',')\r\n",
    "    #print(dataset)\r\n",
    "\r\n",
    "    tmp_dataset_squared = np.square(dataset)\r\n",
    "    tmp_dataset_mean = np.array(tmp_dataset_squared.mean())\r\n",
    "    dataset_mean_abs = np.sqrt(tmp_dataset_mean)\r\n",
    "\r\n",
    "    # dataset_mean_abs = np.array(dataset.abs().mean())\r\n",
    "    dataset_mean_abs = pd.DataFrame(dataset_mean_abs.reshape(1,8))\r\n",
    "    #dataset_mean_abs.index = [filename]\r\n",
    "    filename = filename[:-4]\r\n",
    "    dataset_mean_abs['FaultType'] = 2\r\n",
    "    counter = counter+1\r\n",
    "    merged_data = merged_data.append(dataset_mean_abs)\r\n",
    "\r\n",
    "print(counter)\r\n"
   ]
  },
  {
   "cell_type": "code",
   "execution_count": 20,
   "metadata": {},
   "outputs": [
    {
     "name": "stdout",
     "output_type": "stream",
     "text": [
      "           0         1         2          3         4         5         6  \\\n",
      "0   1.585549  0.979180  0.307371   0.044810  0.668828  0.030364  0.197575   \n",
      "0   1.596106  1.245584  0.309477   0.046528  0.893784  0.030156  0.284262   \n",
      "0   1.598833  1.327238  0.306285   0.049383  0.812289  0.031505  0.198623   \n",
      "0   1.612533  1.291966  0.309720   0.051198  0.847367  0.030815  0.208231   \n",
      "0   1.625215  1.136211  0.326869   0.054969  0.791769  0.029374  0.266956   \n",
      "..       ...       ...       ...        ...       ...       ...       ...   \n",
      "0   1.809397  6.216226  5.095528  10.107535  1.067451  1.086736  1.147758   \n",
      "0   1.813454  6.483646  5.110757  10.291355  1.078970  1.201462  1.173774   \n",
      "0   1.841016  6.652789  4.803541  10.412009  1.080347  1.338769  1.219827   \n",
      "0   1.840769  6.796370  4.663132  10.498356  1.118588  1.434415  1.257018   \n",
      "0   1.900677  7.132938  4.711963  10.657422  1.068375  1.418228  1.266404   \n",
      "\n",
      "           7  FaultType  \n",
      "0   0.112425          0  \n",
      "0   0.116036          0  \n",
      "0   0.132988          0  \n",
      "0   0.135145          0  \n",
      "0   0.125709          0  \n",
      "..       ...        ...  \n",
      "0   0.221557          2  \n",
      "0   0.223124          2  \n",
      "0   0.224635          2  \n",
      "0   0.225235          2  \n",
      "0   0.224380          2  \n",
      "\n",
      "[147 rows x 9 columns]\n"
     ]
    }
   ],
   "source": [
    "print(merged_data)"
   ]
  },
  {
   "cell_type": "code",
   "execution_count": null,
   "metadata": {},
   "outputs": [
    {
     "data": {
      "text/plain": "(array([-0.25,  0.  ,  0.25,  0.5 ,  0.75,  1.  ,  1.25,  1.5 ,  1.75,\n         2.  ,  2.25]),\n [Text(0, 0, ''),\n  Text(0, 0, ''),\n  Text(0, 0, ''),\n  Text(0, 0, ''),\n  Text(0, 0, ''),\n  Text(0, 0, ''),\n  Text(0, 0, ''),\n  Text(0, 0, ''),\n  Text(0, 0, ''),\n  Text(0, 0, ''),\n  Text(0, 0, '')])"
     },
     "execution_count": 21,
     "metadata": {},
     "output_type": "execute_result"
    },
    {
     "data": {
      "image/png": "[encoded data removed]",
      "text/plain": "<Figure size 432x288 with 1 Axes>"
     },
     "metadata": {
      "needs_background": "light"
     },
     "output_type": "display_data"
    }
   ],
   "source": [
    "\n",
    "\n",
    "\n",
    "num_cols = ['Bearing 1']\n",
    "merged_data.columns = ['Bearing 1-1','Bearing 1-2','Bearing 2-1','Bearing 2-2', 'Bearing 3-1','Bearing 3-2','Bearing 4-1','Bearing 4-2', 'FaultType']\n",
    "merged_data.reset_index(drop=True, inplace=True)\n",
    "#merged_data.index = pd.to_datetime(merged_data.index, format='%Y.%m.%d.%H.%M.%S')\n",
    "#merged_data.index = pd.to_datetime(merged_data.index, format='UTC')\n",
    "#merged_data = merged_data.sort_index()\n",
    "merged_data.to_csv('Imb1.csv')\n",
    "#merged_data.index.names = ['index']\n",
    "#merged_data.head()\n",
    "num_cols = ['Bearing 1-1','Bearing 1-2','Bearing 2-1','Bearing 2-2', 'Bearing 3-1','Bearing 3-2','Bearing 4-1','Bearing 4-2']\n",
    "\n",
    "dataset_train = merged_data #['2004-02-12 11:02:39':'2004-02-13 23:52:39']\n",
    "#dataset_test = merged_data['2004-02-13 23:52:39':]\n",
    "#dataset_train.plot(merged_data.loc[:,\"date\"], merged_data.loc[:,\"Bearing 1\"], figsize = (12,6))\n",
    "plt.plot(merged_data[\"FaultType\"], merged_data[num_cols])\n",
    "plt.xticks(rotation=70)\n"
   ]
  },
  {
   "cell_type": "code",
   "execution_count": 22,
   "metadata": {},
   "outputs": [
    {
     "data": {
      "text/html": "<div>\n<style scoped>\n    .dataframe tbody tr th:only-of-type {\n        vertical-align: middle;\n    }\n\n    .dataframe tbody tr th {\n        vertical-align: top;\n    }\n\n    .dataframe thead th {\n        text-align: right;\n    }\n</style>\n<table border=\"1\" class=\"dataframe\">\n  <thead>\n    <tr style=\"text-align: right;\">\n      <th></th>\n      <th>Bearing 1-1</th>\n      <th>Bearing 1-2</th>\n      <th>Bearing 2-1</th>\n      <th>Bearing 2-2</th>\n      <th>Bearing 3-1</th>\n      <th>Bearing 3-2</th>\n      <th>Bearing 4-1</th>\n      <th>Bearing 4-2</th>\n      <th>FaultType</th>\n    </tr>\n  </thead>\n  <tbody>\n    <tr>\n      <th>122</th>\n      <td>1.722088</td>\n      <td>3.994993</td>\n      <td>2.214716</td>\n      <td>4.986876</td>\n      <td>1.363418</td>\n      <td>1.547644</td>\n      <td>0.985728</td>\n      <td>0.186478</td>\n      <td>2</td>\n    </tr>\n    <tr>\n      <th>123</th>\n      <td>1.742276</td>\n      <td>4.105281</td>\n      <td>2.099206</td>\n      <td>5.486218</td>\n      <td>1.282278</td>\n      <td>1.540595</td>\n      <td>0.985832</td>\n      <td>0.189679</td>\n      <td>2</td>\n    </tr>\n    <tr>\n      <th>124</th>\n      <td>1.735611</td>\n      <td>4.274172</td>\n      <td>2.312766</td>\n      <td>5.151042</td>\n      <td>1.180404</td>\n      <td>1.311348</td>\n      <td>0.862909</td>\n      <td>0.191219</td>\n      <td>2</td>\n    </tr>\n    <tr>\n      <th>125</th>\n      <td>1.748323</td>\n      <td>4.240207</td>\n      <td>2.431570</td>\n      <td>5.352230</td>\n      <td>1.142562</td>\n      <td>1.135027</td>\n      <td>0.853685</td>\n      <td>0.193818</td>\n      <td>2</td>\n    </tr>\n    <tr>\n      <th>126</th>\n      <td>1.745030</td>\n      <td>4.510514</td>\n      <td>2.702263</td>\n      <td>5.548489</td>\n      <td>0.836646</td>\n      <td>1.147598</td>\n      <td>0.867587</td>\n      <td>0.197960</td>\n      <td>2</td>\n    </tr>\n    <tr>\n      <th>127</th>\n      <td>1.742365</td>\n      <td>5.900442</td>\n      <td>2.461580</td>\n      <td>5.301361</td>\n      <td>0.952079</td>\n      <td>1.787319</td>\n      <td>1.067370</td>\n      <td>0.198522</td>\n      <td>2</td>\n    </tr>\n    <tr>\n      <th>128</th>\n      <td>1.747532</td>\n      <td>6.462083</td>\n      <td>2.556083</td>\n      <td>5.907594</td>\n      <td>1.166540</td>\n      <td>1.862931</td>\n      <td>1.111823</td>\n      <td>0.199702</td>\n      <td>2</td>\n    </tr>\n    <tr>\n      <th>129</th>\n      <td>1.765823</td>\n      <td>6.883903</td>\n      <td>2.900244</td>\n      <td>6.670312</td>\n      <td>1.321202</td>\n      <td>1.852198</td>\n      <td>1.142954</td>\n      <td>0.201660</td>\n      <td>2</td>\n    </tr>\n    <tr>\n      <th>130</th>\n      <td>1.826606</td>\n      <td>4.845290</td>\n      <td>2.859587</td>\n      <td>7.266505</td>\n      <td>1.337996</td>\n      <td>1.285787</td>\n      <td>1.008477</td>\n      <td>0.206427</td>\n      <td>2</td>\n    </tr>\n    <tr>\n      <th>131</th>\n      <td>1.767618</td>\n      <td>4.295312</td>\n      <td>2.730961</td>\n      <td>7.981439</td>\n      <td>1.107538</td>\n      <td>1.281038</td>\n      <td>1.114093</td>\n      <td>0.210704</td>\n      <td>2</td>\n    </tr>\n    <tr>\n      <th>132</th>\n      <td>1.791262</td>\n      <td>4.298923</td>\n      <td>3.187646</td>\n      <td>7.832669</td>\n      <td>1.155769</td>\n      <td>1.414196</td>\n      <td>1.163656</td>\n      <td>0.211114</td>\n      <td>2</td>\n    </tr>\n    <tr>\n      <th>133</th>\n      <td>1.791367</td>\n      <td>4.639655</td>\n      <td>4.261886</td>\n      <td>8.026949</td>\n      <td>1.155632</td>\n      <td>1.344679</td>\n      <td>1.249863</td>\n      <td>0.212361</td>\n      <td>2</td>\n    </tr>\n    <tr>\n      <th>134</th>\n      <td>1.776807</td>\n      <td>5.106935</td>\n      <td>4.869489</td>\n      <td>8.470866</td>\n      <td>1.157306</td>\n      <td>1.286842</td>\n      <td>1.273720</td>\n      <td>0.213340</td>\n      <td>2</td>\n    </tr>\n    <tr>\n      <th>135</th>\n      <td>1.773375</td>\n      <td>5.764545</td>\n      <td>5.890707</td>\n      <td>9.515113</td>\n      <td>1.122173</td>\n      <td>1.285243</td>\n      <td>1.332364</td>\n      <td>0.215253</td>\n      <td>2</td>\n    </tr>\n    <tr>\n      <th>136</th>\n      <td>1.762284</td>\n      <td>5.947837</td>\n      <td>6.276992</td>\n      <td>9.917405</td>\n      <td>1.089692</td>\n      <td>1.159011</td>\n      <td>1.360450</td>\n      <td>0.217003</td>\n      <td>2</td>\n    </tr>\n    <tr>\n      <th>137</th>\n      <td>1.771828</td>\n      <td>5.920147</td>\n      <td>6.321344</td>\n      <td>10.225308</td>\n      <td>1.064666</td>\n      <td>1.094112</td>\n      <td>1.360009</td>\n      <td>0.218498</td>\n      <td>2</td>\n    </tr>\n    <tr>\n      <th>138</th>\n      <td>1.778018</td>\n      <td>6.018627</td>\n      <td>6.355401</td>\n      <td>10.348605</td>\n      <td>1.010389</td>\n      <td>1.042906</td>\n      <td>1.289577</td>\n      <td>0.219990</td>\n      <td>2</td>\n    </tr>\n    <tr>\n      <th>139</th>\n      <td>1.776220</td>\n      <td>6.075159</td>\n      <td>6.175967</td>\n      <td>10.194202</td>\n      <td>0.999208</td>\n      <td>1.105179</td>\n      <td>1.170451</td>\n      <td>0.221728</td>\n      <td>2</td>\n    </tr>\n    <tr>\n      <th>140</th>\n      <td>1.767708</td>\n      <td>6.054743</td>\n      <td>5.722800</td>\n      <td>10.057127</td>\n      <td>0.976261</td>\n      <td>1.100098</td>\n      <td>1.183603</td>\n      <td>0.219975</td>\n      <td>2</td>\n    </tr>\n    <tr>\n      <th>141</th>\n      <td>1.772077</td>\n      <td>5.991127</td>\n      <td>5.544383</td>\n      <td>10.078515</td>\n      <td>0.968379</td>\n      <td>1.092471</td>\n      <td>1.175782</td>\n      <td>0.219235</td>\n      <td>2</td>\n    </tr>\n    <tr>\n      <th>142</th>\n      <td>1.809397</td>\n      <td>6.216226</td>\n      <td>5.095528</td>\n      <td>10.107535</td>\n      <td>1.067451</td>\n      <td>1.086736</td>\n      <td>1.147758</td>\n      <td>0.221557</td>\n      <td>2</td>\n    </tr>\n    <tr>\n      <th>143</th>\n      <td>1.813454</td>\n      <td>6.483646</td>\n      <td>5.110757</td>\n      <td>10.291355</td>\n      <td>1.078970</td>\n      <td>1.201462</td>\n      <td>1.173774</td>\n      <td>0.223124</td>\n      <td>2</td>\n    </tr>\n    <tr>\n      <th>144</th>\n      <td>1.841016</td>\n      <td>6.652789</td>\n      <td>4.803541</td>\n      <td>10.412009</td>\n      <td>1.080347</td>\n      <td>1.338769</td>\n      <td>1.219827</td>\n      <td>0.224635</td>\n      <td>2</td>\n    </tr>\n    <tr>\n      <th>145</th>\n      <td>1.840769</td>\n      <td>6.796370</td>\n      <td>4.663132</td>\n      <td>10.498356</td>\n      <td>1.118588</td>\n      <td>1.434415</td>\n      <td>1.257018</td>\n      <td>0.225235</td>\n      <td>2</td>\n    </tr>\n    <tr>\n      <th>146</th>\n      <td>1.900677</td>\n      <td>7.132938</td>\n      <td>4.711963</td>\n      <td>10.657422</td>\n      <td>1.068375</td>\n      <td>1.418228</td>\n      <td>1.266404</td>\n      <td>0.224380</td>\n      <td>2</td>\n    </tr>\n  </tbody>\n</table>\n</div>",
      "text/plain": "     Bearing 1-1  Bearing 1-2  Bearing 2-1  Bearing 2-2  Bearing 3-1  \\\n122     1.722088     3.994993     2.214716     4.986876     1.363418   \n123     1.742276     4.105281     2.099206     5.486218     1.282278   \n124     1.735611     4.274172     2.312766     5.151042     1.180404   \n125     1.748323     4.240207     2.431570     5.352230     1.142562   \n126     1.745030     4.510514     2.702263     5.548489     0.836646   \n127     1.742365     5.900442     2.461580     5.301361     0.952079   \n128     1.747532     6.462083     2.556083     5.907594     1.166540   \n129     1.765823     6.883903     2.900244     6.670312     1.321202   \n130     1.826606     4.845290     2.859587     7.266505     1.337996   \n131     1.767618     4.295312     2.730961     7.981439     1.107538   \n132     1.791262     4.298923     3.187646     7.832669     1.155769   \n133     1.791367     4.639655     4.261886     8.026949     1.155632   \n134     1.776807     5.106935     4.869489     8.470866     1.157306   \n135     1.773375     5.764545     5.890707     9.515113     1.122173   \n136     1.762284     5.947837     6.276992     9.917405     1.089692   \n137     1.771828     5.920147     6.321344    10.225308     1.064666   \n138     1.778018     6.018627     6.355401    10.348605     1.010389   \n139     1.776220     6.075159     6.175967    10.194202     0.999208   \n140     1.767708     6.054743     5.722800    10.057127     0.976261   \n141     1.772077     5.991127     5.544383    10.078515     0.968379   \n142     1.809397     6.216226     5.095528    10.107535     1.067451   \n143     1.813454     6.483646     5.110757    10.291355     1.078970   \n144     1.841016     6.652789     4.803541    10.412009     1.080347   \n145     1.840769     6.796370     4.663132    10.498356     1.118588   \n146     1.900677     7.132938     4.711963    10.657422     1.068375   \n\n     Bearing 3-2  Bearing 4-1  Bearing 4-2  FaultType  \n122     1.547644     0.985728     0.186478          2  \n123     1.540595     0.985832     0.189679          2  \n124     1.311348     0.862909     0.191219          2  \n125     1.135027     0.853685     0.193818          2  \n126     1.147598     0.867587     0.197960          2  \n127     1.787319     1.067370     0.198522          2  \n128     1.862931     1.111823     0.199702          2  \n129     1.852198     1.142954     0.201660          2  \n130     1.285787     1.008477     0.206427          2  \n131     1.281038     1.114093     0.210704          2  \n132     1.414196     1.163656     0.211114          2  \n133     1.344679     1.249863     0.212361          2  \n134     1.286842     1.273720     0.213340          2  \n135     1.285243     1.332364     0.215253          2  \n136     1.159011     1.360450     0.217003          2  \n137     1.094112     1.360009     0.218498          2  \n138     1.042906     1.289577     0.219990          2  \n139     1.105179     1.170451     0.221728          2  \n140     1.100098     1.183603     0.219975          2  \n141     1.092471     1.175782     0.219235          2  \n142     1.086736     1.147758     0.221557          2  \n143     1.201462     1.173774     0.223124          2  \n144     1.338769     1.219827     0.224635          2  \n145     1.434415     1.257018     0.225235          2  \n146     1.418228     1.266404     0.224380          2  "
     },
     "execution_count": 22,
     "metadata": {},
     "output_type": "execute_result"
    }
   ],
   "source": [
    "merged_data.tail(n=25)"
   ]
  },
  {
   "cell_type": "code",
   "execution_count": 23,
   "metadata": {},
   "outputs": [
    {
     "name": "stdout",
     "output_type": "stream",
     "text": [
      "1.0\n",
      "[[10  0  0]\n",
      " [ 0  9  0]\n",
      " [ 0  0 11]]\n"
     ]
    }
   ],
   "source": [
    "#Importing the necessary packages and libaries\r\n",
    "from sklearn.metrics import confusion_matrix\r\n",
    "from sklearn.model_selection import train_test_split\r\n",
    "from sklearn.preprocessing import StandardScaler\r\n",
    "from sklearn import svm, datasets\r\n",
    "import matplotlib.pyplot as plt\r\n",
    "import numpy as np\r\n",
    "\r\n",
    "dataset = merged_data.values\r\n",
    "scaler = StandardScaler()\r\n",
    "X = dataset[:,0:8].astype(float)\r\n",
    "X = scaler.fit_transform(X)\r\n",
    "Y = dataset[:,8].astype(int)\r\n",
    "# print(type(Y[0]))\r\n",
    "\r\n",
    "# X_train, X_test, y_train, y_test = train_test_split(X, Y, train_size=0.8, random_state=0)\r\n",
    "X_train, X_test, y_train, y_test = train_test_split(X, Y, train_size=0.8)\r\n",
    "\r\n",
    "linear = svm.SVC(kernel='linear', C=1).fit(X_train, y_train)\r\n",
    "\r\n",
    "linear_pred = linear.predict(X_test)\r\n",
    "\r\n",
    "accuracy_lin = linear.score(X_test, y_test)\r\n",
    "print(accuracy_lin)\r\n",
    "\r\n",
    "cm_lin = confusion_matrix(y_test, linear_pred)\r\n",
    "\r\n",
    "print(cm_lin)\r\n",
    "\r\n",
    "\r\n",
    "\r\n",
    "\r\n",
    "\r\n",
    "\r\n",
    "\r\n",
    "\r\n",
    "\r\n",
    "\r\n",
    "\r\n"
   ]
  }
 ],
 "metadata": {
  "kernelspec": {
   "display_name": "Python 3.8.8 64-bit ('base': conda)",
   "name": "python388jvsc74a57bd04d61c18faa779f7a111307dba0e10d43876feec281adb7870fd0350d60a910e6"
  },
  "language_info": {
   "codemirror_mode": {
    "name": "ipython",
    "version": 3
   },
   "file_extension": ".py",
   "mimetype": "text/x-python",
   "name": "python",
   "nbconvert_exporter": "python",
   "pygments_lexer": "ipython3",
   "version": "3.8.8"
  }
 },
 "nbformat": 4,
 "nbformat_minor": 2
}