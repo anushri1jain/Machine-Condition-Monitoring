{
  "nbformat": 4,
  "nbformat_minor": 0,
  "metadata": {
    "colab": {
      "name": "ProphetFBPredictiononNASABearing.ipynb",
      "provenance": [],
      "authorship_tag": "ABX9TyMZ4tr4wWoNQYqYJOIstfYr",
      "include_colab_link": true
    },
    "kernelspec": {
      "name": "python3",
      "display_name": "Python 3"
    },
    "language_info": {
      "name": "python"
    }
  },
  "cells": [
    {
      "cell_type": "markdown",
      "metadata": {
        "id": "view-in-github",
        "colab_type": "text"
      },
      "source": [
        "<a href=\"https://colab.research.google.com/github/shaleenanuj/Machine-Condition-Monitoring/blob/shaleen/ProphetFBPredictiononNASABearing.ipynb\" target=\"_parent\"><img src=\"https://colab.research.google.com/assets/colab-badge.svg\" alt=\"Open In Colab\"/></a>"
      ]
    },
    {
      "cell_type": "markdown",
      "metadata": {
        "id": "Z4fEJsOgBDcL"
      },
      "source": [
        "New Section"
      ]
    },
    {
      "cell_type": "markdown",
      "metadata": {
        "id": "hoK63KfMyLld"
      },
      "source": [
        "# CONDITION MONITORING & PREDICTIVE MAINTENANCE \n",
        "\n",
        "\n",
        "<font color=\"blue\">This notebook is intended to illustrate conditioning monitoring of industrial machinery by walking  through a real life dataset of bearing vibration data.</font>\n",
        "\n",
        "\n",
        "\n",
        "\n",
        "\n",
        "\n"
      ]
    },
    {
      "cell_type": "markdown",
      "metadata": {
        "id": "VNHbkNG4BD_E"
      },
      "source": [
        "# Imports"
      ]
    },
    {
      "cell_type": "code",
      "metadata": {
        "id": "pj9h3U39BbuM"
      },
      "source": [
        "import os\n",
        "import pandas as pd\n",
        "import numpy as np\n",
        "from sklearn import preprocessing\n",
        "import seaborn as sns\n",
        "sns.set(color_codes=True)\n",
        "import matplotlib.pyplot as plt\n",
        "%matplotlib inline"
      ],
      "execution_count": 1,
      "outputs": []
    },
    {
      "cell_type": "markdown",
      "metadata": {
        "id": "FEoM-qKkCuOR"
      },
      "source": [
        "# Data Import\n",
        "\n",
        "Data can be imported either by reading the file data and taking average of 10 minutes or can be read out of all ready stored file"
      ]
    },
    {
      "cell_type": "code",
      "metadata": {
        "id": "tzlU0SDVDdCH"
      },
      "source": [
        "from google.colab import drive\n",
        "drive.mount('/content/drive')"
      ],
      "execution_count": null,
      "outputs": []
    },
    {
      "cell_type": "code",
      "metadata": {
        "id": "9HvVHekRCzo1"
      },
      "source": [
        "###Data read from raw data files\n",
        "data_dir = 'data'\n",
        "merged_data = pd.DataFrame()\n",
        "\n",
        "# Looping over all files from 12th Feb to 19th Feb\n",
        "for filename in os.listdir(data_dir):\n",
        "    dataset=pd.read_csv(os.path.join(data_dir, filename), sep='\\t')\n",
        "    dataset_mean_abs = np.array(dataset.abs().mean())\n",
        "    dataset_mean_abs = pd.DataFrame(dataset_mean_abs.reshape(1,4))\n",
        "    dataset_mean_abs.index = [filename]\n",
        "    merged_data = merged_data.append(dataset_mean_abs)\n",
        "    \n",
        "# Renaming columns\n",
        "merged_data.columns = ['Bearing 1','Bearing 2','Bearing 3','Bearing 4']\n",
        "# Identifying index as datetime format\n",
        "merged_data.index = pd.to_datetime(merged_data.index, format='%Y.%m.%d.%H.%M.%S')\n",
        "merged_data = merged_data.sort_index()\n",
        "merged_data.to_csv('merged_dataset_BearingTest_2.csv')"
      ],
      "execution_count": null,
      "outputs": []
    },
    {
      "cell_type": "code",
      "metadata": {
        "id": "WKJOVqSuDFID"
      },
      "source": [
        "merged_data = pd.read_csv('/content/drive/MyDrive/merged_dataset_BearingTest_2.csv')\n",
        "merged_data.index = pd.to_datetime(merged_data['Unnamed: 0'])\n",
        "merged_data.drop('Unnamed: 0',axis=1)\n",
        "merged_data = merged_data.sort_index()"
      ],
      "execution_count": null,
      "outputs": []
    },
    {
      "cell_type": "code",
      "metadata": {
        "id": "XPvhIiE3Dqis"
      },
      "source": [
        "# Check - Begining of Data\n",
        "merged_data.head()"
      ],
      "execution_count": null,
      "outputs": []
    },
    {
      "cell_type": "code",
      "metadata": {
        "colab": {
          "base_uri": "https://localhost:8080/",
          "height": 32
        },
        "id": "PU3OPiXWDsxO",
        "outputId": "0290943b-730c-49b5-a8d4-8eae94583169"
      },
      "source": [
        "# Check - End of Data\n",
        "merged_data.tail()\n",
        "#Check Total Points\n",
        "print(f'Total Data Points {merged_data.shape[0] + 1}')"
      ],
      "execution_count": 3,
      "outputs": [
        {
          "output_type": "execute_result",
          "data": {
            "text/html": [
              "<div>\n",
              "<style scoped>\n",
              "    .dataframe tbody tr th:only-of-type {\n",
              "        vertical-align: middle;\n",
              "    }\n",
              "\n",
              "    .dataframe tbody tr th {\n",
              "        vertical-align: top;\n",
              "    }\n",
              "\n",
              "    .dataframe thead th {\n",
              "        text-align: right;\n",
              "    }\n",
              "</style>\n",
              "<table border=\"1\" class=\"dataframe\">\n",
              "  <thead>\n",
              "    <tr style=\"text-align: right;\">\n",
              "      <th></th>\n",
              "    </tr>\n",
              "  </thead>\n",
              "  <tbody>\n",
              "  </tbody>\n",
              "</table>\n",
              "</div>"
            ],
            "text/plain": [
              "Empty DataFrame\n",
              "Columns: []\n",
              "Index: []"
            ]
          },
          "metadata": {},
          "execution_count": 3
        }
      ]
    },
    {
      "cell_type": "markdown",
      "metadata": {
        "id": "pgSdjK8RD05_"
      },
      "source": [
        "# Visualising the Data"
      ]
    },
    {
      "cell_type": "code",
      "metadata": {
        "id": "vfsLxH6JD6_g"
      },
      "source": [
        "# Visualising Data\n",
        "ax = merged_data.plot(figsize = (12,6), title=\"Vibration Data\" , legend = True)\n",
        "ax.set(xlabel=\"Year-Month-Date\", ylabel=\"Vibration/Acceleration(g)\")\n",
        "plt.axvline(x='2004-02-19 06:12:39', linewidth=4, color='b', label =\"Breakdown of Bearing 1\")\n",
        "plt.text('2004-02-19 06:12:39',0.3,'Breakdown of Bearing 1',rotation=90, fontsize=14, color='b')"
      ],
      "execution_count": null,
      "outputs": []
    },
    {
      "cell_type": "code",
      "metadata": {
        "id": "TsilY5VLVNgQ"
      },
      "source": [
        "from fbprophet import Prophet"
      ],
      "execution_count": null,
      "outputs": []
    },
    {
      "cell_type": "markdown",
      "metadata": {
        "id": "q8hjAPFoVCB-"
      },
      "source": [
        "# Creating Training Data Set and model"
      ]
    },
    {
      "cell_type": "code",
      "metadata": {
        "colab": {
          "base_uri": "https://localhost:8080/",
          "height": 573
        },
        "id": "a0n4JnwGD-YL",
        "outputId": "02e24eca-b868-4642-c4bb-6a01625fda28"
      },
      "source": [
        "healthy_bearing1 = merged_data['2004-02-12 10:32:39':'2004-02-15 23:42:39']['Bearing 1']\n",
        "\n",
        "# Creating training dataframe\n",
        "prophet_healthy_train = pd.DataFrame()\n",
        "prophet_healthy_train['ds'] = healthy_bearing1.index\n",
        "prophet_healthy_train['y'] = healthy_bearing1.values\n",
        "\n",
        "prophet_healthy_train.head()\n",
        "m = Prophet(interval_width = 1)\n",
        "# Using the training data from \"healthy part\"\n",
        "m.fit(prophet_healthy_train)\n",
        "forecast = m.predict(prophet_healthy_train)\n",
        "forecast['fact'] = prophet_healthy_train['y'].reset_index(drop = True)\n",
        "print('Displaying Prophet plot')\n",
        "fig1 = m.plot(forecast)\n",
        "fig1 = healthy_bearing1.plot(figsize = (12,6), title=\"Fit of Training Data\")\n",
        "fig1.set(xlabel=\"Month (MM)-Date(DD) Time\", ylabel=\"Vibration/Acceleration(g)\")"
      ],
      "execution_count": 4,
      "outputs": [
        {
          "output_type": "error",
          "ename": "KeyError",
          "evalue": "ignored",
          "traceback": [
            "\u001b[0;31m---------------------------------------------------------------------------\u001b[0m",
            "\u001b[0;31mKeyError\u001b[0m                                  Traceback (most recent call last)",
            "\u001b[0;32m/usr/local/lib/python3.7/dist-packages/pandas/core/indexes/base.py\u001b[0m in \u001b[0;36mget_loc\u001b[0;34m(self, key, method, tolerance)\u001b[0m\n\u001b[1;32m   2897\u001b[0m             \u001b[0;32mtry\u001b[0m\u001b[0;34m:\u001b[0m\u001b[0;34m\u001b[0m\u001b[0;34m\u001b[0m\u001b[0m\n\u001b[0;32m-> 2898\u001b[0;31m                 \u001b[0;32mreturn\u001b[0m \u001b[0mself\u001b[0m\u001b[0;34m.\u001b[0m\u001b[0m_engine\u001b[0m\u001b[0;34m.\u001b[0m\u001b[0mget_loc\u001b[0m\u001b[0;34m(\u001b[0m\u001b[0mcasted_key\u001b[0m\u001b[0;34m)\u001b[0m\u001b[0;34m\u001b[0m\u001b[0;34m\u001b[0m\u001b[0m\n\u001b[0m\u001b[1;32m   2899\u001b[0m             \u001b[0;32mexcept\u001b[0m \u001b[0mKeyError\u001b[0m \u001b[0;32mas\u001b[0m \u001b[0merr\u001b[0m\u001b[0;34m:\u001b[0m\u001b[0;34m\u001b[0m\u001b[0;34m\u001b[0m\u001b[0m\n",
            "\u001b[0;32mpandas/_libs/index.pyx\u001b[0m in \u001b[0;36mpandas._libs.index.IndexEngine.get_loc\u001b[0;34m()\u001b[0m\n",
            "\u001b[0;32mpandas/_libs/index.pyx\u001b[0m in \u001b[0;36mpandas._libs.index.IndexEngine.get_loc\u001b[0;34m()\u001b[0m\n",
            "\u001b[0;32mpandas/_libs/hashtable_class_helper.pxi\u001b[0m in \u001b[0;36mpandas._libs.hashtable.PyObjectHashTable.get_item\u001b[0;34m()\u001b[0m\n",
            "\u001b[0;32mpandas/_libs/hashtable_class_helper.pxi\u001b[0m in \u001b[0;36mpandas._libs.hashtable.PyObjectHashTable.get_item\u001b[0;34m()\u001b[0m\n",
            "\u001b[0;31mKeyError\u001b[0m: 'Bearing 1'",
            "\nThe above exception was the direct cause of the following exception:\n",
            "\u001b[0;31mKeyError\u001b[0m                                  Traceback (most recent call last)",
            "\u001b[0;32m<ipython-input-4-b1c78f61568d>\u001b[0m in \u001b[0;36m<module>\u001b[0;34m()\u001b[0m\n\u001b[0;32m----> 1\u001b[0;31m \u001b[0mhealthy_bearing1\u001b[0m \u001b[0;34m=\u001b[0m \u001b[0mmerged_data\u001b[0m\u001b[0;34m[\u001b[0m\u001b[0;34m'2004-02-12 10:32:39'\u001b[0m\u001b[0;34m:\u001b[0m\u001b[0;34m'2004-02-15 23:42:39'\u001b[0m\u001b[0;34m]\u001b[0m\u001b[0;34m[\u001b[0m\u001b[0;34m'Bearing 1'\u001b[0m\u001b[0;34m]\u001b[0m\u001b[0;34m\u001b[0m\u001b[0;34m\u001b[0m\u001b[0m\n\u001b[0m\u001b[1;32m      2\u001b[0m \u001b[0;34m\u001b[0m\u001b[0m\n\u001b[1;32m      3\u001b[0m \u001b[0;31m# Creating training dataframe\u001b[0m\u001b[0;34m\u001b[0m\u001b[0;34m\u001b[0m\u001b[0;34m\u001b[0m\u001b[0m\n\u001b[1;32m      4\u001b[0m \u001b[0mprophet_healthy_train\u001b[0m \u001b[0;34m=\u001b[0m \u001b[0mpd\u001b[0m\u001b[0;34m.\u001b[0m\u001b[0mDataFrame\u001b[0m\u001b[0;34m(\u001b[0m\u001b[0;34m)\u001b[0m\u001b[0;34m\u001b[0m\u001b[0;34m\u001b[0m\u001b[0m\n\u001b[1;32m      5\u001b[0m \u001b[0mprophet_healthy_train\u001b[0m\u001b[0;34m[\u001b[0m\u001b[0;34m'ds'\u001b[0m\u001b[0;34m]\u001b[0m \u001b[0;34m=\u001b[0m \u001b[0mhealthy_bearing1\u001b[0m\u001b[0;34m.\u001b[0m\u001b[0mindex\u001b[0m\u001b[0;34m\u001b[0m\u001b[0;34m\u001b[0m\u001b[0m\n",
            "\u001b[0;32m/usr/local/lib/python3.7/dist-packages/pandas/core/frame.py\u001b[0m in \u001b[0;36m__getitem__\u001b[0;34m(self, key)\u001b[0m\n\u001b[1;32m   2904\u001b[0m             \u001b[0;32mif\u001b[0m \u001b[0mself\u001b[0m\u001b[0;34m.\u001b[0m\u001b[0mcolumns\u001b[0m\u001b[0;34m.\u001b[0m\u001b[0mnlevels\u001b[0m \u001b[0;34m>\u001b[0m \u001b[0;36m1\u001b[0m\u001b[0;34m:\u001b[0m\u001b[0;34m\u001b[0m\u001b[0;34m\u001b[0m\u001b[0m\n\u001b[1;32m   2905\u001b[0m                 \u001b[0;32mreturn\u001b[0m \u001b[0mself\u001b[0m\u001b[0;34m.\u001b[0m\u001b[0m_getitem_multilevel\u001b[0m\u001b[0;34m(\u001b[0m\u001b[0mkey\u001b[0m\u001b[0;34m)\u001b[0m\u001b[0;34m\u001b[0m\u001b[0;34m\u001b[0m\u001b[0m\n\u001b[0;32m-> 2906\u001b[0;31m             \u001b[0mindexer\u001b[0m \u001b[0;34m=\u001b[0m \u001b[0mself\u001b[0m\u001b[0;34m.\u001b[0m\u001b[0mcolumns\u001b[0m\u001b[0;34m.\u001b[0m\u001b[0mget_loc\u001b[0m\u001b[0;34m(\u001b[0m\u001b[0mkey\u001b[0m\u001b[0;34m)\u001b[0m\u001b[0;34m\u001b[0m\u001b[0;34m\u001b[0m\u001b[0m\n\u001b[0m\u001b[1;32m   2907\u001b[0m             \u001b[0;32mif\u001b[0m \u001b[0mis_integer\u001b[0m\u001b[0;34m(\u001b[0m\u001b[0mindexer\u001b[0m\u001b[0;34m)\u001b[0m\u001b[0;34m:\u001b[0m\u001b[0;34m\u001b[0m\u001b[0;34m\u001b[0m\u001b[0m\n\u001b[1;32m   2908\u001b[0m                 \u001b[0mindexer\u001b[0m \u001b[0;34m=\u001b[0m \u001b[0;34m[\u001b[0m\u001b[0mindexer\u001b[0m\u001b[0;34m]\u001b[0m\u001b[0;34m\u001b[0m\u001b[0;34m\u001b[0m\u001b[0m\n",
            "\u001b[0;32m/usr/local/lib/python3.7/dist-packages/pandas/core/indexes/base.py\u001b[0m in \u001b[0;36mget_loc\u001b[0;34m(self, key, method, tolerance)\u001b[0m\n\u001b[1;32m   2898\u001b[0m                 \u001b[0;32mreturn\u001b[0m \u001b[0mself\u001b[0m\u001b[0;34m.\u001b[0m\u001b[0m_engine\u001b[0m\u001b[0;34m.\u001b[0m\u001b[0mget_loc\u001b[0m\u001b[0;34m(\u001b[0m\u001b[0mcasted_key\u001b[0m\u001b[0;34m)\u001b[0m\u001b[0;34m\u001b[0m\u001b[0;34m\u001b[0m\u001b[0m\n\u001b[1;32m   2899\u001b[0m             \u001b[0;32mexcept\u001b[0m \u001b[0mKeyError\u001b[0m \u001b[0;32mas\u001b[0m \u001b[0merr\u001b[0m\u001b[0;34m:\u001b[0m\u001b[0;34m\u001b[0m\u001b[0;34m\u001b[0m\u001b[0m\n\u001b[0;32m-> 2900\u001b[0;31m                 \u001b[0;32mraise\u001b[0m \u001b[0mKeyError\u001b[0m\u001b[0;34m(\u001b[0m\u001b[0mkey\u001b[0m\u001b[0;34m)\u001b[0m \u001b[0;32mfrom\u001b[0m \u001b[0merr\u001b[0m\u001b[0;34m\u001b[0m\u001b[0;34m\u001b[0m\u001b[0m\n\u001b[0m\u001b[1;32m   2901\u001b[0m \u001b[0;34m\u001b[0m\u001b[0m\n\u001b[1;32m   2902\u001b[0m         \u001b[0;32mif\u001b[0m \u001b[0mtolerance\u001b[0m \u001b[0;32mis\u001b[0m \u001b[0;32mnot\u001b[0m \u001b[0;32mNone\u001b[0m\u001b[0;34m:\u001b[0m\u001b[0;34m\u001b[0m\u001b[0;34m\u001b[0m\u001b[0m\n",
            "\u001b[0;31mKeyError\u001b[0m: 'Bearing 1'"
          ]
        }
      ]
    },
    {
      "cell_type": "markdown",
      "metadata": {
        "id": "e4fNNEXMWHps"
      },
      "source": [
        "Evaluation on test data"
      ]
    },
    {
      "cell_type": "code",
      "metadata": {
        "id": "kg3qvGneV9QM"
      },
      "source": [
        "prophet_faultydata = merged_data['2004-02-15 23:22:39':'2004-02-16 23:52:39']['Bearing 1']\n",
        "prophet_faultydata.head()\n",
        "\n",
        "prophet_faulty_test = pd.DataFrame()\n",
        "\n",
        "prophet_faulty_test['ds'] = prophet_faultydata.index\n",
        "#pd.to_datetime(prophet_healthy.index, format='%Y.%m.%d.%H.%M.%S')\n",
        "prophet_faulty_test['y'] = prophet_faultydata.values\n",
        "\n",
        "forecast = m.predict(prophet_faulty_test)\n",
        "forecast['fact'] = prophet_faulty_test['y'].reset_index(drop = True)\n",
        "print('Displaying Prophet plot')\n",
        "fig1 = m.plot(forecast)\n",
        "fig1 = prophet_faultydata.plot(figsize = (12,6),title=\"Fit of Test/Unseen/Fault Data\")\n",
        "fig1.set(xlabel=\"Month (MM)-Date(DD) Time\", ylabel=\"Vibration/Acceleration(g)\")\n",
        "fig1.text(731626.875,0.057,'Expected/Predicted', fontsize=14, color='r')\n",
        "fig1.text(731626.875,0.075,'Actual/Faulty Data', fontsize=14, color='r')\n",
        "fig1.text(731624.875,0.057,'Actual/Healthy', fontsize=14, color='r')\n"
      ],
      "execution_count": null,
      "outputs": []
    },
    {
      "cell_type": "code",
      "metadata": {
        "id": "Hq5gOM1f1j_e",
        "colab": {
          "base_uri": "https://localhost:8080/",
          "height": 68
        },
        "outputId": "3a57cd18-8352-4bee-c952-d088b9cd7f94"
      },
      "source": [
        "# Healper functions to annotate the graph.\n",
        "print(fig1.get_xticks())\n",
        "print(fig1.get_yticks())"
      ],
      "execution_count": null,
      "outputs": [
        {
          "output_type": "stream",
          "text": [
            "[731623.875 731624.375 731624.875 731625.375 731625.875 731626.375\n",
            " 731626.875 731627.375 731627.875]\n",
            "[0.055 0.06  0.065 0.07  0.075 0.08  0.085]\n"
          ],
          "name": "stdout"
        }
      ]
    },
    {
      "cell_type": "markdown",
      "metadata": {
        "id": "1WV2OqKGWnpF"
      },
      "source": [
        "# References\n",
        "1.   https://www.plantengineering.com/articles/roller-bearings-and-predictive-analytics/\n",
        "2.   https://towardsdatascience.com/how-to-use-machine-learning-for-anomaly-detection-and-condition-monitoring-6742f82900d7\n",
        "3. https://iot.ieee.org/images/files/pdf/phm2017/06-19-2017-Rick-Durham_IEEE-PHM_Presentation20170610.pdf\n",
        "4. https://facebook.github.io/prophet/docs/quick_start.html\n",
        "5. https://colab.research.google.com/github/arunptp/Predictive-Analytics/blob/master/BearingAnalytics_.ipynb?authuser=1#scrollTo=U0HbXUA0Sofp"
      ]
    }
  ]
}