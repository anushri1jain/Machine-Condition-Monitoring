{
 "cells": [
  {
   "cell_type": "code",
   "execution_count": 16,
   "metadata": {},
   "outputs": [
    {
     "name": "stdout",
     "output_type": "stream",
     "text": [
      "50\n",
      "148\n"
     ]
    }
   ],
   "source": [
    "import os\r\n",
    "import pandas as pd\r\n",
    "import tensorflow\r\n",
    "import numpy as np\r\n",
    "from sklearn import preprocessing\r\n",
    "import seaborn as sns\r\n",
    "sns.set(color_codes=True)\r\n",
    "import matplotlib.pyplot as plt\r\n",
    "%matplotlib inline\r\n",
    "\r\n",
    "from numpy.random import seed\r\n",
    "\r\n",
    "\r\n",
    "from keras.layers import Input, Dropout\r\n",
    "from keras.layers.core import Dense \r\n",
    "from keras.models import Model, Sequential, load_model\r\n",
    "from keras import regularizers\r\n",
    "from keras.models import model_from_json\r\n",
    "\r\n",
    "                                                                    #Data Preprocessing  \r\n",
    "data_dir = 'D:\\\\bearing_fault_data\\\\normal'\r\n",
    "merged_data = pd.DataFrame()\r\n",
    "counter = 1\r\n",
    "for filename in os.listdir(data_dir):#each for loop reads millions of data points from each fault catagory\r\n",
    "    #print(filename)\r\n",
    "    dataset=pd.read_csv(os.path.join(data_dir, filename), sep=',')\r\n",
    "    #print(dataset)\r\n",
    "\r\n",
    "    # tmp_dataset_squared = np.square(dataset)\r\n",
    "    # tmp_dataset_mean = np.array(tmp_dataset_squared.mean())\r\n",
    "    # dataset_mean_abs = np.sqrt(tmp_dataset_mean)\r\n",
    "\r\n",
    "    dataset_mean_abs = np.array(dataset.abs().mean())\r\n",
    "    dataset_mean_abs = pd.DataFrame(dataset_mean_abs.reshape(1,8))\r\n",
    "    #dataset_mean_abs.index = [filename]\r\n",
    "    filename = filename[:-4]\r\n",
    "    dataset_mean_abs['FaultType'] = 0                        #Add manual Label based on data folder\r\n",
    "    counter = counter+1\r\n",
    "    \r\n",
    "    merged_data = merged_data.append(dataset_mean_abs)\r\n",
    "\r\n",
    "data_dir = 'D:\\\\bearing_fault_data\\\\imbalance\\\\6g'\r\n",
    "#merged_data = pd.DataFrame()\r\n",
    "print(counter)\r\n",
    "for filename in os.listdir(data_dir):\r\n",
    "    #print(filename)\r\n",
    "    dataset=pd.read_csv(os.path.join(data_dir, filename), sep=',')\r\n",
    "    #print(dataset)\r\n",
    "\r\n",
    "    # tmp_dataset_squared = np.square(dataset)\r\n",
    "    # tmp_dataset_mean = np.array(tmp_dataset_squared.mean())\r\n",
    "    # dataset_mean_abs = np.sqrt(tmp_dataset_mean)\r\n",
    "\r\n",
    "    dataset_mean_abs = np.array(dataset.abs().mean())\r\n",
    "    dataset_mean_abs = pd.DataFrame(dataset_mean_abs.reshape(1,8))\r\n",
    "    #dataset_mean_abs.index = [filename]\r\n",
    "    filename = filename[:-4]\r\n",
    "    dataset_mean_abs['FaultType'] = 1\r\n",
    "    counter = counter+1\r\n",
    "    merged_data = merged_data.append(dataset_mean_abs)\r\n",
    "\r\n",
    "data_dir = 'D:\\\\bearing_fault_data\\\\overhang\\\\ball_fault\\\\0g'\r\n",
    "#merged_data = pd.DataFrame()\r\n",
    "\r\n",
    "for filename in os.listdir(data_dir):\r\n",
    "    #print(filename)\r\n",
    "    dataset=pd.read_csv(os.path.join(data_dir, filename), sep=',')\r\n",
    "    #print(dataset)\r\n",
    "\r\n",
    "    # tmp_dataset_squared = np.square(dataset)\r\n",
    "    # tmp_dataset_mean = np.array(tmp_dataset_squared.mean())\r\n",
    "    # dataset_mean_abs = np.sqrt(tmp_dataset_mean)\r\n",
    "\r\n",
    "    dataset_mean_abs = np.array(dataset.abs().mean())\r\n",
    "    dataset_mean_abs = pd.DataFrame(dataset_mean_abs.reshape(1,8))\r\n",
    "    #dataset_mean_abs.index = [filename]\r\n",
    "    filename = filename[:-4]\r\n",
    "    dataset_mean_abs['FaultType'] = 2\r\n",
    "    counter = counter+1\r\n",
    "    merged_data = merged_data.append(dataset_mean_abs)\r\n",
    "\r\n",
    "print(counter)\r\n"
   ]
  },
  {
   "cell_type": "code",
   "execution_count": 17,
   "metadata": {},
   "outputs": [
    {
     "name": "stdout",
     "output_type": "stream",
     "text": [
      "           0         1         2         3         4         5         6  \\\n",
      "0   0.980382  0.851480  0.264751  0.036690  0.544825  0.025468  0.159750   \n",
      "0   0.991549  1.076952  0.266087  0.037932  0.741583  0.025314  0.235244   \n",
      "0   1.002206  1.150378  0.263226  0.040066  0.654136  0.026291  0.158235   \n",
      "0   1.014647  1.118109  0.265598  0.041363  0.688802  0.025762  0.165564   \n",
      "0   1.028982  0.983267  0.279629  0.044323  0.635340  0.024847  0.213260   \n",
      "..       ...       ...       ...       ...       ...       ...       ...   \n",
      "0   1.288894  4.964272  3.781070  7.957199  0.855259  0.873318  0.903183   \n",
      "0   1.289915  5.188806  3.779417  8.058788  0.857031  0.967978  0.933877   \n",
      "0   1.326126  5.373538  3.562423  8.132476  0.834156  1.088928  0.984584   \n",
      "0   1.329111  5.458745  3.518684  8.235668  0.875341  1.160620  1.009612   \n",
      "0   1.418884  5.556572  3.655359  8.377900  0.816050  1.144756  1.006218   \n",
      "\n",
      "           7  FaultType  \n",
      "0   0.092024          0  \n",
      "0   0.094424          0  \n",
      "0   0.107576          0  \n",
      "0   0.109411          0  \n",
      "0   0.103152          0  \n",
      "..       ...        ...  \n",
      "0   0.188736          2  \n",
      "0   0.190062          2  \n",
      "0   0.191458          2  \n",
      "0   0.191844          2  \n",
      "0   0.191103          2  \n",
      "\n",
      "[147 rows x 9 columns]\n"
     ]
    }
   ],
   "source": [
    "print(merged_data)"
   ]
  },
  {
   "cell_type": "code",
   "execution_count": 18,
   "metadata": {},
   "outputs": [
    {
     "data": {
      "text/plain": "(array([-0.25,  0.  ,  0.25,  0.5 ,  0.75,  1.  ,  1.25,  1.5 ,  1.75,\n         2.  ,  2.25]),\n [Text(0, 0, ''),\n  Text(0, 0, ''),\n  Text(0, 0, ''),\n  Text(0, 0, ''),\n  Text(0, 0, ''),\n  Text(0, 0, ''),\n  Text(0, 0, ''),\n  Text(0, 0, ''),\n  Text(0, 0, ''),\n  Text(0, 0, ''),\n  Text(0, 0, '')])"
     },
     "execution_count": 18,
     "metadata": {},
     "output_type": "execute_result"
    },
    {
     "data": {
      "image/png": "[encoded data removed]",
      "text/plain": "<Figure size 432x288 with 1 Axes>"
     },
     "metadata": {
      "needs_background": "light"
     },
     "output_type": "display_data"
    }
   ],
   "source": [
    "\n",
    "\n",
    "\n",
    "num_cols = ['Bearing 1']\n",
    "merged_data.columns = ['Bearing 1-1','Bearing 1-2','Bearing 2-1','Bearing 2-2', 'Bearing 3-1','Bearing 3-2','Bearing 4-1','Bearing 4-2', 'FaultType']\n",
    "merged_data.reset_index(drop=True, inplace=True)\n",
    "#merged_data.index = pd.to_datetime(merged_data.index, format='%Y.%m.%d.%H.%M.%S')\n",
    "#merged_data.index = pd.to_datetime(merged_data.index, format='UTC')\n",
    "#merged_data = merged_data.sort_index()\n",
    "merged_data.to_csv('Imb1.csv')\n",
    "#merged_data.index.names = ['index']\n",
    "#merged_data.head()\n",
    "num_cols = ['Bearing 1-1','Bearing 1-2','Bearing 2-1','Bearing 2-2', 'Bearing 3-1','Bearing 3-2','Bearing 4-1','Bearing 4-2']\n",
    "\n",
    "dataset_train = merged_data #['2004-02-12 11:02:39':'2004-02-13 23:52:39']\n",
    "#dataset_test = merged_data['2004-02-13 23:52:39':]\n",
    "#dataset_train.plot(merged_data.loc[:,\"date\"], merged_data.loc[:,\"Bearing 1\"], figsize = (12,6))\n",
    "plt.plot(merged_data[\"FaultType\"], merged_data[num_cols])\n",
    "plt.xticks(rotation=70)\n"
   ]
  },
  {
   "cell_type": "code",
   "execution_count": 19,
   "metadata": {},
   "outputs": [
    {
     "data": {
      "text/html": "<div>\n<style scoped>\n    .dataframe tbody tr th:only-of-type {\n        vertical-align: middle;\n    }\n\n    .dataframe tbody tr th {\n        vertical-align: top;\n    }\n\n    .dataframe thead th {\n        text-align: right;\n    }\n</style>\n<table border=\"1\" class=\"dataframe\">\n  <thead>\n    <tr style=\"text-align: right;\">\n      <th></th>\n      <th>Bearing 1-1</th>\n      <th>Bearing 1-2</th>\n      <th>Bearing 2-1</th>\n      <th>Bearing 2-2</th>\n      <th>Bearing 3-1</th>\n      <th>Bearing 3-2</th>\n      <th>Bearing 4-1</th>\n      <th>Bearing 4-2</th>\n      <th>FaultType</th>\n    </tr>\n  </thead>\n  <tbody>\n    <tr>\n      <th>122</th>\n      <td>1.162478</td>\n      <td>3.165791</td>\n      <td>1.727428</td>\n      <td>3.914067</td>\n      <td>1.150920</td>\n      <td>1.295417</td>\n      <td>0.785900</td>\n      <td>0.157889</td>\n      <td>2</td>\n    </tr>\n    <tr>\n      <th>123</th>\n      <td>1.190943</td>\n      <td>3.112116</td>\n      <td>1.649955</td>\n      <td>4.264683</td>\n      <td>1.031796</td>\n      <td>1.238063</td>\n      <td>0.794550</td>\n      <td>0.160848</td>\n      <td>2</td>\n    </tr>\n    <tr>\n      <th>124</th>\n      <td>1.180551</td>\n      <td>3.328537</td>\n      <td>1.814841</td>\n      <td>4.116012</td>\n      <td>0.989915</td>\n      <td>1.065526</td>\n      <td>0.692487</td>\n      <td>0.162533</td>\n      <td>2</td>\n    </tr>\n    <tr>\n      <th>125</th>\n      <td>1.197117</td>\n      <td>3.320112</td>\n      <td>1.844460</td>\n      <td>4.250752</td>\n      <td>0.966359</td>\n      <td>0.910042</td>\n      <td>0.687956</td>\n      <td>0.164558</td>\n      <td>2</td>\n    </tr>\n    <tr>\n      <th>126</th>\n      <td>1.192999</td>\n      <td>3.461882</td>\n      <td>2.048280</td>\n      <td>4.405922</td>\n      <td>0.682128</td>\n      <td>0.926270</td>\n      <td>0.698222</td>\n      <td>0.168105</td>\n      <td>2</td>\n    </tr>\n    <tr>\n      <th>127</th>\n      <td>1.190278</td>\n      <td>4.302618</td>\n      <td>1.904335</td>\n      <td>4.140043</td>\n      <td>0.764292</td>\n      <td>1.443722</td>\n      <td>0.853891</td>\n      <td>0.168546</td>\n      <td>2</td>\n    </tr>\n    <tr>\n      <th>128</th>\n      <td>1.196117</td>\n      <td>4.720262</td>\n      <td>1.994325</td>\n      <td>4.553573</td>\n      <td>0.951119</td>\n      <td>1.509685</td>\n      <td>0.879557</td>\n      <td>0.169562</td>\n      <td>2</td>\n    </tr>\n    <tr>\n      <th>129</th>\n      <td>1.221305</td>\n      <td>5.051484</td>\n      <td>2.250447</td>\n      <td>5.097200</td>\n      <td>1.085151</td>\n      <td>1.525179</td>\n      <td>0.917522</td>\n      <td>0.171272</td>\n      <td>2</td>\n    </tr>\n    <tr>\n      <th>130</th>\n      <td>1.308914</td>\n      <td>3.552063</td>\n      <td>2.258620</td>\n      <td>5.641214</td>\n      <td>1.100052</td>\n      <td>1.038943</td>\n      <td>0.805657</td>\n      <td>0.175353</td>\n      <td>2</td>\n    </tr>\n    <tr>\n      <th>131</th>\n      <td>1.226224</td>\n      <td>3.291895</td>\n      <td>2.159995</td>\n      <td>6.147942</td>\n      <td>0.901672</td>\n      <td>1.035799</td>\n      <td>0.908198</td>\n      <td>0.179144</td>\n      <td>2</td>\n    </tr>\n    <tr>\n      <th>132</th>\n      <td>1.259430</td>\n      <td>3.358646</td>\n      <td>2.495426</td>\n      <td>6.099338</td>\n      <td>0.934691</td>\n      <td>1.131671</td>\n      <td>0.938678</td>\n      <td>0.179496</td>\n      <td>2</td>\n    </tr>\n    <tr>\n      <th>133</th>\n      <td>1.262605</td>\n      <td>3.662954</td>\n      <td>3.312123</td>\n      <td>6.313085</td>\n      <td>0.936228</td>\n      <td>1.077109</td>\n      <td>1.017057</td>\n      <td>0.180634</td>\n      <td>2</td>\n    </tr>\n    <tr>\n      <th>134</th>\n      <td>1.246557</td>\n      <td>4.101997</td>\n      <td>3.786625</td>\n      <td>6.723294</td>\n      <td>0.941680</td>\n      <td>1.032276</td>\n      <td>1.038992</td>\n      <td>0.181657</td>\n      <td>2</td>\n    </tr>\n    <tr>\n      <th>135</th>\n      <td>1.234290</td>\n      <td>4.752254</td>\n      <td>4.468485</td>\n      <td>7.430707</td>\n      <td>0.930296</td>\n      <td>1.033208</td>\n      <td>1.092254</td>\n      <td>0.183240</td>\n      <td>2</td>\n    </tr>\n    <tr>\n      <th>136</th>\n      <td>1.224599</td>\n      <td>4.957848</td>\n      <td>4.692879</td>\n      <td>7.601757</td>\n      <td>0.913045</td>\n      <td>0.938812</td>\n      <td>1.099682</td>\n      <td>0.184714</td>\n      <td>2</td>\n    </tr>\n    <tr>\n      <th>137</th>\n      <td>1.236242</td>\n      <td>4.933102</td>\n      <td>4.676542</td>\n      <td>7.820927</td>\n      <td>0.889107</td>\n      <td>0.878613</td>\n      <td>1.097304</td>\n      <td>0.185916</td>\n      <td>2</td>\n    </tr>\n    <tr>\n      <th>138</th>\n      <td>1.243250</td>\n      <td>4.979192</td>\n      <td>4.663802</td>\n      <td>7.949893</td>\n      <td>0.828267</td>\n      <td>0.838893</td>\n      <td>1.037715</td>\n      <td>0.187209</td>\n      <td>2</td>\n    </tr>\n    <tr>\n      <th>139</th>\n      <td>1.243881</td>\n      <td>4.938959</td>\n      <td>4.466227</td>\n      <td>8.005360</td>\n      <td>0.802640</td>\n      <td>0.895462</td>\n      <td>0.939710</td>\n      <td>0.188699</td>\n      <td>2</td>\n    </tr>\n    <tr>\n      <th>140</th>\n      <td>1.237247</td>\n      <td>4.866987</td>\n      <td>4.177784</td>\n      <td>7.991251</td>\n      <td>0.775284</td>\n      <td>0.891008</td>\n      <td>0.941922</td>\n      <td>0.187255</td>\n      <td>2</td>\n    </tr>\n    <tr>\n      <th>141</th>\n      <td>1.243083</td>\n      <td>4.789964</td>\n      <td>4.064219</td>\n      <td>8.029839</td>\n      <td>0.770129</td>\n      <td>0.885820</td>\n      <td>0.928472</td>\n      <td>0.186825</td>\n      <td>2</td>\n    </tr>\n    <tr>\n      <th>142</th>\n      <td>1.288894</td>\n      <td>4.964272</td>\n      <td>3.781070</td>\n      <td>7.957199</td>\n      <td>0.855259</td>\n      <td>0.873318</td>\n      <td>0.903183</td>\n      <td>0.188736</td>\n      <td>2</td>\n    </tr>\n    <tr>\n      <th>143</th>\n      <td>1.289915</td>\n      <td>5.188806</td>\n      <td>3.779417</td>\n      <td>8.058788</td>\n      <td>0.857031</td>\n      <td>0.967978</td>\n      <td>0.933877</td>\n      <td>0.190062</td>\n      <td>2</td>\n    </tr>\n    <tr>\n      <th>144</th>\n      <td>1.326126</td>\n      <td>5.373538</td>\n      <td>3.562423</td>\n      <td>8.132476</td>\n      <td>0.834156</td>\n      <td>1.088928</td>\n      <td>0.984584</td>\n      <td>0.191458</td>\n      <td>2</td>\n    </tr>\n    <tr>\n      <th>145</th>\n      <td>1.329111</td>\n      <td>5.458745</td>\n      <td>3.518684</td>\n      <td>8.235668</td>\n      <td>0.875341</td>\n      <td>1.160620</td>\n      <td>1.009612</td>\n      <td>0.191844</td>\n      <td>2</td>\n    </tr>\n    <tr>\n      <th>146</th>\n      <td>1.418884</td>\n      <td>5.556572</td>\n      <td>3.655359</td>\n      <td>8.377900</td>\n      <td>0.816050</td>\n      <td>1.144756</td>\n      <td>1.006218</td>\n      <td>0.191103</td>\n      <td>2</td>\n    </tr>\n  </tbody>\n</table>\n</div>",
      "text/plain": "     Bearing 1-1  Bearing 1-2  Bearing 2-1  Bearing 2-2  Bearing 3-1  \\\n122     1.162478     3.165791     1.727428     3.914067     1.150920   \n123     1.190943     3.112116     1.649955     4.264683     1.031796   \n124     1.180551     3.328537     1.814841     4.116012     0.989915   \n125     1.197117     3.320112     1.844460     4.250752     0.966359   \n126     1.192999     3.461882     2.048280     4.405922     0.682128   \n127     1.190278     4.302618     1.904335     4.140043     0.764292   \n128     1.196117     4.720262     1.994325     4.553573     0.951119   \n129     1.221305     5.051484     2.250447     5.097200     1.085151   \n130     1.308914     3.552063     2.258620     5.641214     1.100052   \n131     1.226224     3.291895     2.159995     6.147942     0.901672   \n132     1.259430     3.358646     2.495426     6.099338     0.934691   \n133     1.262605     3.662954     3.312123     6.313085     0.936228   \n134     1.246557     4.101997     3.786625     6.723294     0.941680   \n135     1.234290     4.752254     4.468485     7.430707     0.930296   \n136     1.224599     4.957848     4.692879     7.601757     0.913045   \n137     1.236242     4.933102     4.676542     7.820927     0.889107   \n138     1.243250     4.979192     4.663802     7.949893     0.828267   \n139     1.243881     4.938959     4.466227     8.005360     0.802640   \n140     1.237247     4.866987     4.177784     7.991251     0.775284   \n141     1.243083     4.789964     4.064219     8.029839     0.770129   \n142     1.288894     4.964272     3.781070     7.957199     0.855259   \n143     1.289915     5.188806     3.779417     8.058788     0.857031   \n144     1.326126     5.373538     3.562423     8.132476     0.834156   \n145     1.329111     5.458745     3.518684     8.235668     0.875341   \n146     1.418884     5.556572     3.655359     8.377900     0.816050   \n\n     Bearing 3-2  Bearing 4-1  Bearing 4-2  FaultType  \n122     1.295417     0.785900     0.157889          2  \n123     1.238063     0.794550     0.160848          2  \n124     1.065526     0.692487     0.162533          2  \n125     0.910042     0.687956     0.164558          2  \n126     0.926270     0.698222     0.168105          2  \n127     1.443722     0.853891     0.168546          2  \n128     1.509685     0.879557     0.169562          2  \n129     1.525179     0.917522     0.171272          2  \n130     1.038943     0.805657     0.175353          2  \n131     1.035799     0.908198     0.179144          2  \n132     1.131671     0.938678     0.179496          2  \n133     1.077109     1.017057     0.180634          2  \n134     1.032276     1.038992     0.181657          2  \n135     1.033208     1.092254     0.183240          2  \n136     0.938812     1.099682     0.184714          2  \n137     0.878613     1.097304     0.185916          2  \n138     0.838893     1.037715     0.187209          2  \n139     0.895462     0.939710     0.188699          2  \n140     0.891008     0.941922     0.187255          2  \n141     0.885820     0.928472     0.186825          2  \n142     0.873318     0.903183     0.188736          2  \n143     0.967978     0.933877     0.190062          2  \n144     1.088928     0.984584     0.191458          2  \n145     1.160620     1.009612     0.191844          2  \n146     1.144756     1.006218     0.191103          2  "
     },
     "execution_count": 19,
     "metadata": {},
     "output_type": "execute_result"
    }
   ],
   "source": [
    "merged_data.tail(n=25)"
   ]
  },
  {
   "cell_type": "code",
   "execution_count": 20,
   "metadata": {},
   "outputs": [
    {
     "name": "stdout",
     "output_type": "stream",
     "text": [
      "0.9\n",
      "[[12  3  0]\n",
      " [ 0  7  0]\n",
      " [ 0  0  8]]\n"
     ]
    }
   ],
   "source": [
    "#Importing the necessary packages and libaries\r\n",
    "from sklearn.metrics import confusion_matrix\r\n",
    "from sklearn.model_selection import train_test_split\r\n",
    "from sklearn.preprocessing import StandardScaler\r\n",
    "from sklearn import svm, datasets\r\n",
    "import matplotlib.pyplot as plt\r\n",
    "import numpy as np\r\n",
    "\r\n",
    "dataset = merged_data.values\r\n",
    "scaler = StandardScaler()\r\n",
    "X = dataset[:,0:8].astype(float)\r\n",
    "X = scaler.fit_transform(X)\r\n",
    "Y = dataset[:,8].astype(int)\r\n",
    "# print(type(Y[0]))\r\n",
    "\r\n",
    "# X_train, X_test, y_train, y_test = train_test_split(X, Y, train_size=0.8, random_state=0)\r\n",
    "X_train, X_test, y_train, y_test = train_test_split(X, Y, train_size=0.8)\r\n",
    "\r\n",
    "linear = svm.SVC(kernel='linear', C=1).fit(X_train, y_train)\r\n",
    "\r\n",
    "linear_pred = linear.predict(X_test)\r\n",
    "\r\n",
    "accuracy_lin = linear.score(X_test, y_test)\r\n",
    "print(accuracy_lin)\r\n",
    "\r\n",
    "cm_lin = confusion_matrix(y_test, linear_pred)\r\n",
    "\r\n",
    "print(cm_lin)\r\n",
    "\r\n",
    "\r\n",
    "\r\n",
    "\r\n",
    "\r\n",
    "\r\n",
    "\r\n",
    "\r\n",
    "\r\n",
    "\r\n",
    "\r\n"
   ]
  }
 ],
 "metadata": {
  "kernelspec": {
   "display_name": "Python 3.8.8 64-bit ('base': conda)",
   "name": "python388jvsc74a57bd04d61c18faa779f7a111307dba0e10d43876feec281adb7870fd0350d60a910e6"
  },
  "language_info": {
   "codemirror_mode": {
    "name": "ipython",
    "version": 3
   },
   "file_extension": ".py",
   "mimetype": "text/x-python",
   "name": "python",
   "nbconvert_exporter": "python",
   "pygments_lexer": "ipython3",
   "version": "3.8.8"
  }
 },
 "nbformat": 4,
 "nbformat_minor": 2
}